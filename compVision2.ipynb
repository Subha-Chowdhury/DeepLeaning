{
  "nbformat": 4,
  "nbformat_minor": 0,
  "metadata": {
    "colab": {
      "name": "compVision2.ipynb",
      "version": "0.3.2",
      "provenance": [],
      "include_colab_link": true
    },
    "kernelspec": {
      "name": "python3",
      "display_name": "Python 3"
    }
  },
  "cells": [
    {
      "cell_type": "markdown",
      "metadata": {
        "id": "view-in-github",
        "colab_type": "text"
      },
      "source": [
        "<a href=\"https://colab.research.google.com/github/Subha-Chowdhury/DeepLeaning/blob/master/compVision2.ipynb\" target=\"_parent\"><img src=\"https://colab.research.google.com/assets/colab-badge.svg\" alt=\"Open In Colab\"/></a>"
      ]
    },
    {
      "metadata": {
        "id": "ASemCcgXB5mh",
        "colab_type": "code",
        "colab": {
          "base_uri": "https://localhost:8080/",
          "height": 281
        },
        "outputId": "7ee20f47-6bb9-498a-b9f7-7bb4f3b40609"
      },
      "cell_type": "code",
      "source": [
        "import tensorflow as tf\n",
        "print(tf.__version__)\n",
        "mnist = tf.keras.datasets.fashion_mnist\n",
        "(training_images, training_labels), (test_images, test_labels) = mnist.load_data()\n",
        "import matplotlib.pyplot as plt\n",
        "#plt.imshow(training_images[0])\n",
        "#print(training_labels[0])\n",
        "#print(training_images[0])\n",
        "training_images  = training_images / 255.0\n",
        "test_images = test_images / 255.0\n",
        "model = tf.keras.models.Sequential([tf.keras.layers.Flatten(), \n",
        "                                    tf.keras.layers.Dense(512, activation=tf.nn.relu), \n",
        "                                    tf.keras.layers.Dense(10, activation=tf.nn.softmax)])\n",
        "model.compile(optimizer = tf.train.AdamOptimizer(),\n",
        "              loss = 'sparse_categorical_crossentropy',\n",
        "              metrics=['accuracy'])\n",
        "model.fit(training_images, training_labels, epochs=5)\n",
        "model.evaluate(test_images, test_labels)\n",
        "classifications = model.predict(test_images)\n",
        "print(classifications[0])\n",
        "print(test_labels[0])"
      ],
      "execution_count": 26,
      "outputs": [
        {
          "output_type": "stream",
          "text": [
            "1.13.1\n",
            "Epoch 1/5\n",
            "60000/60000 [==============================] - 19s 316us/sample - loss: 0.4739 - acc: 0.8307\n",
            "Epoch 2/5\n",
            "60000/60000 [==============================] - 19s 313us/sample - loss: 0.3582 - acc: 0.8694\n",
            "Epoch 3/5\n",
            "60000/60000 [==============================] - 18s 307us/sample - loss: 0.3209 - acc: 0.8811\n",
            "Epoch 4/5\n",
            "60000/60000 [==============================] - 19s 313us/sample - loss: 0.2964 - acc: 0.8889\n",
            "Epoch 5/5\n",
            "60000/60000 [==============================] - 19s 316us/sample - loss: 0.2778 - acc: 0.8962\n",
            "10000/10000 [==============================] - 2s 206us/sample - loss: 0.3427 - acc: 0.8719\n",
            "[2.1817765e-07 1.3497723e-07 4.8651172e-09 3.0579503e-09 3.0466055e-08\n",
            " 9.8485863e-03 2.3063180e-08 8.3500445e-03 2.0069079e-08 9.8180103e-01]\n",
            "9\n"
          ],
          "name": "stdout"
        }
      ]
    }
  ]
}